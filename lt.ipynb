{
 "cells": [
  {
   "cell_type": "code",
   "execution_count": null,
   "metadata": {},
   "outputs": [],
   "source": [
    "a = \"Hello\"\n",
    "print(a)"
   ]
  },
  {
   "cell_type": "code",
   "execution_count": null,
   "metadata": {},
   "outputs": [],
   "source": [
    "value = 75\n",
    "if value >=90:\n",
    "    grade = \"A\"\n",
    "elif value >= 80:\n",
    "    grade = \"B\"\n",
    "else :\n",
    "    grade = \"E\"\n",
    "\n",
    "print(\"Grade : %s\" % grade)"
   ]
  },
  {
   "cell_type": "code",
   "execution_count": null,
   "metadata": {},
   "outputs": [],
   "source": [
    "nilai = 70\n",
    "umur = 20\n",
    "\n",
    "if nilai >= 75:\n",
    "    if (umur < 20):\n",
    "        print(\"Pass\")\n",
    "    else:\n",
    "        print(\"try again\")\n",
    "else: \n",
    "    if(umur > 20):\n",
    "        print(\"try again\")\n",
    "    else:\n",
    "        print (\"try again\")"
   ]
  },
  {
   "cell_type": "code",
   "execution_count": null,
   "metadata": {},
   "outputs": [],
   "source": [
    "\n",
    "# value_str = input(\"enter value : \")\n",
    "# value = int(value_str)\n",
    "value = int(input(\"enter value : \"))\n",
    "if value >= 90:\n",
    "    grade = \"A\"\n",
    "elif value >= 80:\n",
    "    grade = \"B\"\n",
    "elif value >= 70:\n",
    "    grade = \"C\"\n",
    "elif value >= 60:\n",
    "    grade = \"D\"\n",
    "else :\n",
    "    grade = \"E\"\n",
    "\n",
    "print(\"Grade : %s\" % grade)"
   ]
  }
 ],
 "metadata": {
  "language_info": {
   "name": "python"
  }
 },
 "nbformat": 4,
 "nbformat_minor": 2
}
